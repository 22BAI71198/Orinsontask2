{
  "nbformat": 4,
  "nbformat_minor": 0,
  "metadata": {
    "colab": {
      "provenance": []
    },
    "kernelspec": {
      "name": "python3",
      "display_name": "Python 3"
    },
    "language_info": {
      "name": "python"
    }
  },
  "cells": [
    {
      "cell_type": "code",
      "execution_count": 2,
      "metadata": {
        "colab": {
          "base_uri": "https://localhost:8080/"
        },
        "id": "RbXwGhB957oW",
        "outputId": "10b162a6-9e44-4930-d9f0-ed0b6ef566d5"
      },
      "outputs": [
        {
          "output_type": "stream",
          "name": "stdout",
          "text": [
            "     sepal_length  sepal_width  petal_length  petal_width    species  \\\n",
            "0             5.1          3.5           1.4          0.2     setosa   \n",
            "1             4.9          3.0           1.4          0.2     setosa   \n",
            "2             4.7          3.2           1.3          0.2     setosa   \n",
            "3             4.6          3.1           1.5          0.2     setosa   \n",
            "4             5.0          3.6           1.4          0.2     setosa   \n",
            "..            ...          ...           ...          ...        ...   \n",
            "145           6.7          3.0           5.2          2.3  virginica   \n",
            "146           6.3          2.5           5.0          1.9  virginica   \n",
            "147           6.5          3.0           5.2          2.0  virginica   \n",
            "148           6.2          3.4           5.4          2.3  virginica   \n",
            "149           5.9          3.0           5.1          1.8  virginica   \n",
            "\n",
            "    predictions  \n",
            "0        setosa  \n",
            "1        setosa  \n",
            "2        setosa  \n",
            "3        setosa  \n",
            "4        setosa  \n",
            "..          ...  \n",
            "145   virginica  \n",
            "146   virginica  \n",
            "147   virginica  \n",
            "148   virginica  \n",
            "149   virginica  \n",
            "\n",
            "[150 rows x 6 columns]\n",
            "Model Accuracy: 100.00%\n"
          ]
        }
      ],
      "source": [
        "import pandas as pd\n",
        "from sklearn.model_selection import train_test_split\n",
        "from sklearn.tree import DecisionTreeClassifier\n",
        "from sklearn.metrics import accuracy_score\n",
        "\n",
        "# Load your dataset (replace with the correct path or dataset)\n",
        "dataset_path = '/content/iris.csv'  # Replace with actual file path\n",
        "df = pd.read_csv(dataset_path)\n",
        "\n",
        "# Assuming the dataset has features and a target column 'species'\n",
        "X = df.drop(columns='species')  # Features\n",
        "y = df['species']  # Target/label\n",
        "\n",
        "# Split the dataset into training and testing sets\n",
        "X_train, X_test, y_train, y_test = train_test_split(X, y, test_size=0.2, random_state=42)\n",
        "\n",
        "# Initialize and train the model (Decision Tree Classifier)\n",
        "model = DecisionTreeClassifier()\n",
        "model.fit(X_train, y_train)\n",
        "\n",
        "# Make predictions for the entire dataset\n",
        "predictions = model.predict(X)\n",
        "\n",
        "# Add predictions to the original dataframe\n",
        "df['predictions'] = predictions\n",
        "\n",
        "# Print the dataframe with predictions\n",
        "print(df)\n",
        "\n",
        "# Optional: Evaluate the model\n",
        "accuracy = accuracy_score(y_test, model.predict(X_test))\n",
        "print(f\"Model Accuracy: {accuracy * 100:.2f}%\")"
      ]
    }
  ]
}